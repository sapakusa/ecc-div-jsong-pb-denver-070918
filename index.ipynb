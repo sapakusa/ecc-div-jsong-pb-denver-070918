{
 "cells": [
  {
   "cell_type": "markdown",
   "metadata": {},
   "source": [
    "# Finite Field Division\n",
    "\n",
    "The intuition that helps us with addition, subtraction, multiplication and perhaps even exponentiation unfortunately doesn’t help us quite as much in division. Generally speaking division is the hardest one to make sense of, but we’ll start with something that should make sense.\n",
    "\n",
    "In normal math, division is the opposite of multiplication:\n",
    "\n",
    "7⋅8 = 56 implies that 56/8 = 7\n",
    "\n",
    "12⋅2 = 24 implies that 24/12 = 2\n",
    "\n",
    "And so on. We can use this as the definition of division to help us. Note that like normal math, you cannot divide by 0.\n",
    "\n",
    "In \\\\(F_{19}\\\\), we know that:\n",
    "\n",
    "3⋅7=21%19=2 implies that 2/7=3\n",
    "\n",
    "9⋅5=45%19=7 implies that 7/5=9\n",
    "\n",
    "This is very unintuitive as we generally think of 2/7 or 7/5 as fractions, not nice round field elements. Yet that is one of the remarkable things about Finite Fields: Finite Fields are closed under division. That is, dividing any two numbers where the denominator is not 0 will result in another field element.\n",
    "\n",
    "The question you might be asking yourself is, how do I calculate 2/7 if I didn’t know 3⋅7=2? This is indeed a very good question and in order to answer it, we’ll have to use the result from the previous exercise.\n",
    "\n",
    "You probably noticed that n(p-1) is always 1. This is a beautiful result from number theory called Fermat’s Little Theorem and only works when p is prime. Essentially, the theorem says:\n",
    "\n",
    "n(p-1)%p=1 where p is prime\n",
    "\n",
    "Since we are operating in prime fields, this will always be true."
   ]
  },
  {
   "cell_type": "markdown",
   "metadata": {},
   "source": [
    "### Try it\n",
    "\n",
    "#### Solve these equations in \\\\(F_{31}\\\\):\n",
    "\n",
    "\\\\(3/24 = ?\\\\)\n",
    "\n",
    "\\\\(17^{-3} = ?\\\\)\n",
    "\n",
    "\\\\(4^{-4}\\cdot{11} = ?\\\\)\n"
   ]
  },
  {
   "cell_type": "code",
   "execution_count": 3,
   "metadata": {},
   "outputs": [
    {
     "name": "stdout",
     "output_type": "stream",
     "text": [
      "4\n",
      "29\n",
      "13\n"
     ]
    }
   ],
   "source": [
    "# remember pow(x, p-2, p) is the same as 1/x in F_p\n",
    "prime = 31\n",
    "# 3/24 = ?\n",
    "print(3*24**(prime-2) % prime)\n",
    "# 17^(-3) = ?\n",
    "print(pow(17,prime-4, prime))\n",
    "# 4^(-4)*11 = ?\n",
    "print(pow(4,prime-5,prime) * 11 % prime)\n"
   ]
  },
  {
   "cell_type": "markdown",
   "metadata": {},
   "source": [
    "### Test Driven Exercise\n",
    "\n",
    "Create the `__truediv__` method for your library:"
   ]
  },
  {
   "cell_type": "code",
   "execution_count": 3,
   "metadata": {},
   "outputs": [],
   "source": [
    "from ecc import FieldElement\n",
    "\n",
    "class FieldElement(FieldElement):\n",
    "\n",
    "    def __pow__(self, n):\n",
    "        prime = self.prime\n",
    "        # remember fermat's little theorem:\n",
    "        # self.num**(p-1) % p == 1\n",
    "        # you might want to use % operator on n\n",
    "        num = pow(self.num, n % prime-1, prime)\n",
    "        return self.__class__(num, prime)\n",
    "\n",
    "    def __truediv__(self, other):\n",
    "        if self.prime != other.prime:\n",
    "            raise RuntimeError('Primes must be the same')\n",
    "        # self.num and other.num are the actual values\n",
    "        prime = self.prime\n",
    "        num = (self.num * pow(other.num, prime -2, prime)) % prime\n",
    "        # self.prime is what you'll need to mod against\n",
    "        # use fermat's little theorem:\n",
    "        # self.num**(p-1) % p == 1\n",
    "        # this means:\n",
    "        # 1/n == pow(n, p-2, p)\n",
    "        # You need to return an element of the same class\n",
    "        # use: self.__class__(num, prime)\n",
    "        return self.__class__(num,prime)\n",
    "\n",
    "# Hint: the __pow__ method needs a positive number for the exponent.\n",
    "# You can mod by p-1"
   ]
  },
  {
   "cell_type": "code",
   "execution_count": null,
   "metadata": {},
   "outputs": [],
   "source": []
  }
 ],
 "metadata": {
  "kernelspec": {
   "display_name": "Python 3",
   "language": "python",
   "name": "python3"
  },
  "language_info": {
   "codemirror_mode": {
    "name": "ipython",
    "version": 3
   },
   "file_extension": ".py",
   "mimetype": "text/x-python",
   "name": "python",
   "nbconvert_exporter": "python",
   "pygments_lexer": "ipython3",
   "version": "3.6.4"
  }
 },
 "nbformat": 4,
 "nbformat_minor": 2
}
